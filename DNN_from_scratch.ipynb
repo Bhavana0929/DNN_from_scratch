{
  "nbformat": 4,
  "nbformat_minor": 0,
  "metadata": {
    "colab": {
      "provenance": [],
      "authorship_tag": "ABX9TyOXr/AHJ799rG2VN0h5+HRu",
      "include_colab_link": true
    },
    "kernelspec": {
      "name": "python3",
      "display_name": "Python 3"
    },
    "language_info": {
      "name": "python"
    }
  },
  "cells": [
    {
      "cell_type": "markdown",
      "metadata": {
        "id": "view-in-github",
        "colab_type": "text"
      },
      "source": [
        "<a href=\"https://colab.research.google.com/github/Bhavana0929/DNN_from_scratch/blob/main/DNN_from_scratch.ipynb\" target=\"_parent\"><img src=\"https://colab.research.google.com/assets/colab-badge.svg\" alt=\"Open In Colab\"/></a>"
      ]
    },
    {
      "cell_type": "code",
      "execution_count": null,
      "metadata": {
        "id": "AYRIsJLRE9qI"
      },
      "outputs": [],
      "source": [
        "import time\n",
        "import random\n",
        "import numpy as np\n",
        "import matplotlib.pyplot as plt\n",
        "from tensorflow.keras.datasets import mnist\n",
        "from keras.utils import to_categorical"
      ]
    },
    {
      "cell_type": "code",
      "source": [
        "!wget https://raw.githubusercontent.com/Coding-Lane/Deep-Neural-Network-from-scratch/refs/heads/main/dataset/cat_train_x.csv"
      ],
      "metadata": {
        "colab": {
          "base_uri": "https://localhost:8080/"
        },
        "id": "YgIQjjt4FCq8",
        "outputId": "181232b6-d8b5-4e74-a004-4ae6bf5fb620"
      },
      "execution_count": null,
      "outputs": [
        {
          "output_type": "stream",
          "name": "stdout",
          "text": [
            "--2025-02-11 20:49:29--  https://raw.githubusercontent.com/Coding-Lane/Deep-Neural-Network-from-scratch/refs/heads/main/dataset/cat_train_x.csv\n",
            "Resolving raw.githubusercontent.com (raw.githubusercontent.com)... 185.199.108.133, 185.199.109.133, 185.199.110.133, ...\n",
            "Connecting to raw.githubusercontent.com (raw.githubusercontent.com)|185.199.108.133|:443... connected.\n",
            "HTTP request sent, awaiting response... 200 OK\n",
            "Length: 64204800 (61M) [text/plain]\n",
            "Saving to: ‘cat_train_x.csv’\n",
            "\n",
            "cat_train_x.csv     100%[===================>]  61.23M   209MB/s    in 0.3s    \n",
            "\n",
            "2025-02-11 20:49:30 (209 MB/s) - ‘cat_train_x.csv’ saved [64204800/64204800]\n",
            "\n"
          ]
        }
      ]
    },
    {
      "cell_type": "code",
      "source": [
        "!wget https://raw.githubusercontent.com/Coding-Lane/Deep-Neural-Network-from-scratch/refs/heads/main/dataset/cat_train_y.csv"
      ],
      "metadata": {
        "colab": {
          "base_uri": "https://localhost:8080/"
        },
        "id": "8LLUkL2pFOUs",
        "outputId": "cc673654-63e7-414a-d8f7-5fc953d198ba"
      },
      "execution_count": null,
      "outputs": [
        {
          "output_type": "stream",
          "name": "stdout",
          "text": [
            "--2025-02-11 20:49:30--  https://raw.githubusercontent.com/Coding-Lane/Deep-Neural-Network-from-scratch/refs/heads/main/dataset/cat_train_y.csv\n",
            "Resolving raw.githubusercontent.com (raw.githubusercontent.com)... 185.199.108.133, 185.199.109.133, 185.199.110.133, ...\n",
            "Connecting to raw.githubusercontent.com (raw.githubusercontent.com)|185.199.108.133|:443... connected.\n",
            "HTTP request sent, awaiting response... 200 OK\n",
            "Length: 5226 (5.1K) [text/plain]\n",
            "Saving to: ‘cat_train_y.csv’\n",
            "\n",
            "\rcat_train_y.csv       0%[                    ]       0  --.-KB/s               \rcat_train_y.csv     100%[===================>]   5.10K  --.-KB/s    in 0s      \n",
            "\n",
            "2025-02-11 20:49:30 (43.0 MB/s) - ‘cat_train_y.csv’ saved [5226/5226]\n",
            "\n"
          ]
        }
      ]
    },
    {
      "cell_type": "code",
      "source": [
        "!wget https://raw.githubusercontent.com/Coding-Lane/Deep-Neural-Network-from-scratch/refs/heads/main/dataset/cat_test_x.csv"
      ],
      "metadata": {
        "colab": {
          "base_uri": "https://localhost:8080/"
        },
        "id": "T_4bs8BiFW3d",
        "outputId": "0c1eecec-a596-45b2-cc96-745edc3d5bb0"
      },
      "execution_count": null,
      "outputs": [
        {
          "output_type": "stream",
          "name": "stdout",
          "text": [
            "--2025-02-11 20:49:30--  https://raw.githubusercontent.com/Coding-Lane/Deep-Neural-Network-from-scratch/refs/heads/main/dataset/cat_test_x.csv\n",
            "Resolving raw.githubusercontent.com (raw.githubusercontent.com)... 185.199.109.133, 185.199.110.133, 185.199.108.133, ...\n",
            "Connecting to raw.githubusercontent.com (raw.githubusercontent.com)|185.199.109.133|:443... connected.\n",
            "HTTP request sent, awaiting response... 200 OK\n",
            "Length: 15372288 (15M) [text/plain]\n",
            "Saving to: ‘cat_test_x.csv’\n",
            "\n",
            "cat_test_x.csv      100%[===================>]  14.66M  --.-KB/s    in 0.07s   \n",
            "\n",
            "2025-02-11 20:49:30 (214 MB/s) - ‘cat_test_x.csv’ saved [15372288/15372288]\n",
            "\n"
          ]
        }
      ]
    },
    {
      "cell_type": "code",
      "source": [
        "!wget https://raw.githubusercontent.com/Coding-Lane/Deep-Neural-Network-from-scratch/refs/heads/main/dataset/cat_test_y.csv"
      ],
      "metadata": {
        "colab": {
          "base_uri": "https://localhost:8080/"
        },
        "id": "SA5DcEuvFcam",
        "outputId": "25e466b1-b026-4c4e-c78f-408e7e2f2b12"
      },
      "execution_count": null,
      "outputs": [
        {
          "output_type": "stream",
          "name": "stdout",
          "text": [
            "--2025-02-11 20:49:31--  https://raw.githubusercontent.com/Coding-Lane/Deep-Neural-Network-from-scratch/refs/heads/main/dataset/cat_test_y.csv\n",
            "Resolving raw.githubusercontent.com (raw.githubusercontent.com)... 185.199.108.133, 185.199.109.133, 185.199.110.133, ...\n",
            "Connecting to raw.githubusercontent.com (raw.githubusercontent.com)|185.199.108.133|:443... connected.\n",
            "HTTP request sent, awaiting response... 200 OK\n",
            "Length: 1251 (1.2K) [text/plain]\n",
            "Saving to: ‘cat_test_y.csv’\n",
            "\n",
            "cat_test_y.csv      100%[===================>]   1.22K  --.-KB/s    in 0s      \n",
            "\n",
            "2025-02-11 20:49:31 (36.4 MB/s) - ‘cat_test_y.csv’ saved [1251/1251]\n",
            "\n"
          ]
        }
      ]
    },
    {
      "cell_type": "code",
      "source": [
        "X_train = np.loadtxt('cat_train_x.csv', delimiter = ',')/255.0\n",
        "Y_train = np.loadtxt('cat_train_y.csv', delimiter = ',').reshape(1, X_train.shape[1])\n",
        "X_test = np.loadtxt('cat_test_x.csv', delimiter = ',')/255.0\n",
        "Y_test = np.loadtxt('cat_test_y.csv', delimiter = ',').reshape(1, X_test.shape[1])\n",
        "\n",
        "\n",
        "print(X_train.shape)\n",
        "print(Y_train.shape)\n",
        "print(X_test.shape)\n",
        "print(Y_test.shape)"
      ],
      "metadata": {
        "colab": {
          "base_uri": "https://localhost:8080/"
        },
        "id": "WyrU0d4KFhJI",
        "outputId": "f9d09666-4f15-4c81-ab1b-f9a5bb0e7213"
      },
      "execution_count": null,
      "outputs": [
        {
          "output_type": "stream",
          "name": "stdout",
          "text": [
            "(12288, 209)\n",
            "(1, 209)\n",
            "(12288, 50)\n",
            "(1, 50)\n"
          ]
        }
      ]
    },
    {
      "cell_type": "code",
      "source": [
        "(x_train, y_train), (x_test, y_test) = mnist.load_data()\n",
        "x_train = x_train[:1000,:,:]\n",
        "y_train = y_train[:1000]\n",
        "x_test = x_test[:100,:,:]\n",
        "y_test = y_test[:100]\n",
        "\n",
        "x_train = x_train.reshape(x_train.shape[0], 784).T/255\n",
        "x_test = x_test.reshape(x_test.shape[0], 784).T/255\n",
        "y_train = to_categorical(y_train).T\n",
        "y_test = to_categorical(y_test).T\n",
        "\n",
        "print(x_train.shape)\n",
        "print(y_train.shape)\n",
        "print(x_test.shape)\n",
        "print(y_test.shape)"
      ],
      "metadata": {
        "colab": {
          "base_uri": "https://localhost:8080/"
        },
        "id": "IdElXeQ9HwuN",
        "outputId": "5d9f5300-143e-4535-b846-e5736f9fa97c"
      },
      "execution_count": null,
      "outputs": [
        {
          "output_type": "stream",
          "name": "stdout",
          "text": [
            "Downloading data from https://storage.googleapis.com/tensorflow/tf-keras-datasets/mnist.npz\n",
            "\u001b[1m11490434/11490434\u001b[0m \u001b[32m━━━━━━━━━━━━━━━━━━━━\u001b[0m\u001b[37m\u001b[0m \u001b[1m0s\u001b[0m 0us/step\n",
            "(784, 1000)\n",
            "(10, 1000)\n",
            "(784, 100)\n",
            "(10, 100)\n"
          ]
        }
      ]
    },
    {
      "cell_type": "code",
      "source": [
        "X_train.shape[0]"
      ],
      "metadata": {
        "colab": {
          "base_uri": "https://localhost:8080/"
        },
        "id": "bOPUf79GFtSG",
        "outputId": "d286fa92-aba9-4192-bfca-db328b61626c"
      },
      "execution_count": null,
      "outputs": [
        {
          "output_type": "execute_result",
          "data": {
            "text/plain": [
              "12288"
            ]
          },
          "metadata": {},
          "execution_count": 7
        }
      ]
    },
    {
      "cell_type": "code",
      "source": [
        "Y_train.shape[0]"
      ],
      "metadata": {
        "colab": {
          "base_uri": "https://localhost:8080/"
        },
        "id": "HbqzHKAmGMVO",
        "outputId": "ff9dc065-e17e-4cce-c10d-265aa74c67cf"
      },
      "execution_count": null,
      "outputs": [
        {
          "output_type": "execute_result",
          "data": {
            "text/plain": [
              "1"
            ]
          },
          "metadata": {},
          "execution_count": 8
        }
      ]
    },
    {
      "cell_type": "code",
      "source": [
        "index = random.randrange(0, X_train.shape[1])\n",
        "plt.imshow(X_train[:, index].reshape(64,64, 3))\n",
        "plt.show()"
      ],
      "metadata": {
        "colab": {
          "base_uri": "https://localhost:8080/",
          "height": 432
        },
        "id": "GxPCYHGYGU66",
        "outputId": "6eafc9c0-2980-4819-a93d-e533a9f626f6"
      },
      "execution_count": null,
      "outputs": [
        {
          "output_type": "display_data",
          "data": {
            "text/plain": [
              "<Figure size 640x480 with 1 Axes>"
            ],
            "image/png": "[encoded data removed]"
          },
          "metadata": {}
        }
      ]
    },
    {
      "cell_type": "code",
      "source": [
        "def sigmoid(Z):\n",
        "    A = 1/(1+np.exp(-Z))\n",
        "    return A\n",
        "\n",
        "def softmax(z):\n",
        "    expZ = np.exp(z)\n",
        "    return expZ/(np.sum(expZ, 0))\n",
        "\n",
        "def relu(Z):\n",
        "    A = np.maximum(0,Z)\n",
        "    return A\n",
        "\n",
        "def tanh(x):\n",
        "    return np.tanh(x)\n",
        "\n",
        "def derivative_relu(Z):\n",
        "    return np.array(Z > 0, dtype = 'float')\n",
        "\n",
        "def derivative_tanh(x):\n",
        "    return (1 - np.power(x, 2))"
      ],
      "metadata": {
        "id": "PQjjmynyGpI0"
      },
      "execution_count": null,
      "outputs": []
    },
    {
      "cell_type": "code",
      "source": [
        "def initialize_parameters(layer_dims):\n",
        "  parameters = {}\n",
        "  for i in range(1,len(layer_dims)):\n",
        "    parameters[\"W\"+str(i)] = np.random.randn(layer_dims[i],layer_dims[i-1])/np.sqrt(layer_dims[i-1])\n",
        "    parameters[\"b\"+str(i)] = np.zeros((layer_dims[i],1))\n",
        "  return parameters"
      ],
      "metadata": {
        "id": "nCR4oPZ-GzDc"
      },
      "execution_count": null,
      "outputs": []
    },
    {
      "cell_type": "code",
      "source": [
        "layer_dims = [X_train.shape[0],100,200,Y_train.shape[0]]\n",
        "params = initialize_parameters(layer_dims)\n",
        "\n",
        "for i in range(1,len(layer_dims)):\n",
        "  print(\"Shape of W\"+str(i)+\":\",params[\"W\"+str(i)].shape)\n",
        "  print(\"Shape of b\"+str(i)+\":\",params[\"b\"+str(i)].shape,\"\\n\")"
      ],
      "metadata": {
        "colab": {
          "base_uri": "https://localhost:8080/"
        },
        "id": "6YYLo7NpI77c",
        "outputId": "c0b282fa-fbfc-4d90-cca2-339892164b4a"
      },
      "execution_count": null,
      "outputs": [
        {
          "output_type": "stream",
          "name": "stdout",
          "text": [
            "Shape of W1: (100, 12288)\n",
            "Shape of b1: (100, 1) \n",
            "\n",
            "Shape of W2: (200, 100)\n",
            "Shape of b2: (200, 1) \n",
            "\n",
            "Shape of W3: (1, 200)\n",
            "Shape of b3: (1, 1) \n",
            "\n"
          ]
        }
      ]
    },
    {
      "cell_type": "code",
      "source": [
        "def forward_propagation(X, parameters, activation):\n",
        "\n",
        "    forward_cache = {}\n",
        "    L = len(parameters) // 2\n",
        "\n",
        "    forward_cache['A0'] = X\n",
        "\n",
        "    for l in range(1, L):\n",
        "        forward_cache['Z' + str(l)] = parameters['W' + str(l)].dot(forward_cache['A' + str(l-1)]) + parameters['b' + str(l)]\n",
        "\n",
        "        if activation == 'tanh':\n",
        "            forward_cache['A' + str(l)] = tanh(forward_cache['Z' + str(l)])\n",
        "        else:\n",
        "            forward_cache['A' + str(l)] = relu(forward_cache['Z' + str(l)])\n",
        "\n",
        "\n",
        "    forward_cache['Z' + str(L)] = parameters['W' + str(L)].dot(forward_cache['A' + str(L-1)]) + parameters['b' + str(L)]\n",
        "\n",
        "    if forward_cache['Z' + str(L)].shape[0] == 1:\n",
        "        forward_cache['A' + str(L)] = sigmoid(forward_cache['Z' + str(L)])\n",
        "    else :\n",
        "        forward_cache['A' + str(L)] = softmax(forward_cache['Z' + str(L)])\n",
        "\n",
        "    return forward_cache['A' + str(L)], forward_cache"
      ],
      "metadata": {
        "id": "jJmWiUNKNbZl"
      },
      "execution_count": null,
      "outputs": []
    },
    {
      "cell_type": "code",
      "source": [
        "def compute_cost(AL,Y):\n",
        "  m = Y.shape[1]\n",
        "  if Y.shape == 1:\n",
        "    cost = -(1./m)*np.sum(Y*np.log(AL)+(1-Y)*np.log(1-AL))\n",
        "  else:\n",
        "    cost = -(1./m)*np.sum(Y*np.log(AL))\n",
        "  cost = np.squeeze(cost)\n",
        "  return cost"
      ],
      "metadata": {
        "id": "HfwuJccy4Jjz"
      },
      "execution_count": null,
      "outputs": []
    },
    {
      "cell_type": "code",
      "source": [
        "def backward_propagation(AL,Y,parameters,forward_cache,activation):\n",
        "  grads = {}\n",
        "  m=Y.shape[1]\n",
        "  L =len(parameters)//2\n",
        "\n",
        "  grads[\"dZ\"+str(L)] = AL-Y\n",
        "  grads[\"dW\"+str(L)] = (1./m)*np.dot(grads[\"dZ\"+str(L)],forward_cache[\"A\"+str(L-1)].T)\n",
        "  grads[\"db\"+str(L)] = (1./m)*np.sum(grads[\"dZ\"+str(L)],axis=1,keepdims=True)\n",
        "\n",
        "  for i in reversed(range(1, L)):\n",
        "        if activation == 'tanh':\n",
        "            grads[\"dZ\" + str(i)] = np.dot(parameters['W' + str(i+1)].T,grads[\"dZ\" + str(i+1)])*derivative_tanh(forward_cache['A' + str(i)])\n",
        "        else:\n",
        "            grads[\"dZ\" + str(i)] = np.dot(parameters['W' + str(i+1)].T,grads[\"dZ\" + str(i+1)])*derivative_relu(forward_cache['A' + str(i)])\n",
        "\n",
        "        grads[\"dW\" + str(i)] = (1./m) * np.dot(grads[\"dZ\" + str(i)],forward_cache['A' + str(i-1)].T)\n",
        "        grads[\"db\" + str(i)] = (1./m) * np.sum(grads[\"dZ\" + str(i)], axis = 1, keepdims = True)\n",
        "\n",
        "  return grads"
      ],
      "metadata": {
        "id": "5jCu6dd06XV4"
      },
      "execution_count": null,
      "outputs": []
    },
    {
      "cell_type": "code",
      "source": [
        "def update_parameters(parameters, grads, learning_rate):\n",
        "\n",
        "    L = len(parameters) // 2\n",
        "\n",
        "    for i in range(L):\n",
        "        parameters[\"W\" + str(i+1)] = parameters[\"W\" + str(i+1)] - learning_rate * grads[\"dW\" + str(i+1)]\n",
        "        parameters[\"b\" + str(i+1)] = parameters[\"b\" + str(i+1)] - learning_rate * grads[\"db\" + str(i+1)]\n",
        "\n",
        "    return parameters"
      ],
      "metadata": {
        "id": "jYWG6hBv-1Fr"
      },
      "execution_count": null,
      "outputs": []
    },
    {
      "cell_type": "code",
      "source": [
        "def predict(X, y, parameters, activation):\n",
        "\n",
        "    m = X.shape[1]\n",
        "    y_pred, caches = forward_propagation(X, parameters, activation)\n",
        "\n",
        "    if y.shape[0] == 1:\n",
        "        y_pred = np.array(y_pred > 0.5, dtype = 'float')\n",
        "    else:\n",
        "        y = np.argmax(y, 0)\n",
        "        y_pred = np.argmax(y_pred, 0)\n",
        "\n",
        "    return np.round(np.sum((y_pred == y)/m), 2)"
      ],
      "metadata": {
        "id": "kCiHND34-1y-"
      },
      "execution_count": null,
      "outputs": []
    },
    {
      "cell_type": "code",
      "source": [
        "def model(X, Y, layers_dims, learning_rate = 0.03, activation = 'relu', num_iterations = 3000):#lr was 0.009\n",
        "\n",
        "    np.random.seed(1)\n",
        "    costs = []\n",
        "\n",
        "    parameters = initialize_parameters(layers_dims)\n",
        "\n",
        "    for i in range(0, num_iterations):\n",
        "\n",
        "        AL, forward_cache = forward_propagation(X, parameters, activation)\n",
        "\n",
        "        cost = compute_cost(AL, Y)\n",
        "\n",
        "        grads = backward_propagation(AL, Y, parameters, forward_cache, activation)\n",
        "\n",
        "        parameters = update_parameters(parameters, grads, learning_rate)\n",
        "\n",
        "        if i % (num_iterations/10) == 0:\n",
        "            print(\"\\niter:{} \\t cost: {} \\t train_acc:{} \\t test_acc:{}\".format(i, np.round(cost, 2), predict(X_train, Y_train, parameters, activation), predict(X_test, Y_test, parameters, activation)))\n",
        "            #print(\"\\niter:{} \\t cost: {} \\t train_acc:{} \\t test_acc:{}\".format(i, np.round(cost, 2), predict(x_train, y_train, parameters, activation), predict(x_test, y_test, parameters, activation)))\n",
        "\n",
        "        if i % 10 == 0:\n",
        "            print(\"==\", end = '')\n",
        "\n",
        "\n",
        "    return parameters"
      ],
      "metadata": {
        "id": "xDwnuBOxFf6V"
      },
      "execution_count": null,
      "outputs": []
    },
    {
      "cell_type": "code",
      "source": [
        "layers_dims = [x_train.shape[0], 20, 7, 5, y_train.shape[0]] #  4-layer model\n",
        "lr = 0.0075\n",
        "iters = 2500\n",
        "\n",
        "parameters = model(x_train, y_train, layers_dims, learning_rate = lr, activation = 'relu', num_iterations = iters)"
      ],
      "metadata": {
        "colab": {
          "base_uri": "https://localhost:8080/"
        },
        "id": "qIuhtcytCEQL",
        "outputId": "068aa2be-5b38-47dd-dae4-705e93558789"
      },
      "execution_count": null,
      "outputs": [
        {
          "output_type": "stream",
          "name": "stdout",
          "text": [
            "\n",
            "iter:0 \t cost: 2.31 \t train_acc:0.1 \t test_acc:0.12\n",
            "==================================================\n",
            "iter:250 \t cost: 2.26 \t train_acc:0.18 \t test_acc:0.2\n",
            "==================================================\n",
            "iter:500 \t cost: 2.19 \t train_acc:0.21 \t test_acc:0.23\n",
            "==================================================\n",
            "iter:750 \t cost: 2.07 \t train_acc:0.32 \t test_acc:0.35\n",
            "==================================================\n",
            "iter:1000 \t cost: 1.9 \t train_acc:0.35 \t test_acc:0.37\n",
            "==================================================\n",
            "iter:1250 \t cost: 1.71 \t train_acc:0.38 \t test_acc:0.39\n",
            "==================================================\n",
            "iter:1500 \t cost: 1.53 \t train_acc:0.44 \t test_acc:0.46\n",
            "==================================================\n",
            "iter:1750 \t cost: 1.34 \t train_acc:0.47 \t test_acc:0.46\n",
            "==================================================\n",
            "iter:2000 \t cost: 1.16 \t train_acc:0.55 \t test_acc:0.51\n",
            "==================================================\n",
            "iter:2250 \t cost: 1.01 \t train_acc:0.64 \t test_acc:0.58\n",
            "=================================================="
          ]
        }
      ]
    },
    {
      "cell_type": "code",
      "source": [
        "layers_dims = [X_train.shape[0], 20, 7, 5, Y_train.shape[0]] #  4-layer model\n",
        "lr = 0.0075\n",
        "iters = 2500\n",
        "\n",
        "parameters = model(X_train, Y_train, layers_dims, learning_rate = lr, activation = 'relu', num_iterations = iters)"
      ],
      "metadata": {
        "colab": {
          "base_uri": "https://localhost:8080/"
        },
        "id": "5eIIUmWcFZtv",
        "outputId": "0984bea5-2f29-4713-8fde-081314862f85"
      },
      "execution_count": null,
      "outputs": [
        {
          "output_type": "stream",
          "name": "stdout",
          "text": [
            "\n",
            "iter:0 \t cost: 0.18 \t train_acc:0.51 \t test_acc:0.42\n",
            "==================================================\n",
            "iter:250 \t cost: 0.26 \t train_acc:0.74 \t test_acc:0.64\n",
            "==================================================\n",
            "iter:500 \t cost: 0.23 \t train_acc:0.78 \t test_acc:0.7\n",
            "==================================================\n",
            "iter:750 \t cost: 0.18 \t train_acc:0.92 \t test_acc:0.78\n",
            "==================================================\n",
            "iter:1000 \t cost: 0.11 \t train_acc:0.96 \t test_acc:0.8\n",
            "==================================================\n",
            "iter:1250 \t cost: 0.07 \t train_acc:0.98 \t test_acc:0.76\n",
            "==================================================\n",
            "iter:1500 \t cost: 0.04 \t train_acc:0.98 \t test_acc:0.82\n",
            "==================================================\n",
            "iter:1750 \t cost: 0.04 \t train_acc:0.98 \t test_acc:0.8\n",
            "==================================================\n",
            "iter:2000 \t cost: 0.03 \t train_acc:0.98 \t test_acc:0.8\n",
            "==================================================\n",
            "iter:2250 \t cost: 0.04 \t train_acc:0.98 \t test_acc:0.8\n",
            "=================================================="
          ]
        }
      ]
    }
  ]
}